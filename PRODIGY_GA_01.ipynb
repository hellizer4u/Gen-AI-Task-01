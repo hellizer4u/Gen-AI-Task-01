{
  "cells": [
    {
      "cell_type": "markdown",
      "metadata": {
        "id": "view-in-github",
        "colab_type": "text"
      },
      "source": [
        "<a href=\"https://colab.research.google.com/github/hellizer4u/Gen-AI-Task-01/blob/main/PRODIGY_GA_01.ipynb\" target=\"_parent\"><img src=\"https://colab.research.google.com/assets/colab-badge.svg\" alt=\"Open In Colab\"/></a>"
      ]
    },
    {
      "cell_type": "code",
      "execution_count": null,
      "metadata": {
        "id": "OQ-DAphumg5x"
      },
      "outputs": [],
      "source": [
        "!pip install --quiet transformers datasets torch\n",
        "!pip install diffusers transformers accelerate safetensors\n",
        "!pip install wandb"
      ]
    },
    {
      "cell_type": "code",
      "execution_count": null,
      "metadata": {
        "id": "eEIy88HTzbJS"
      },
      "outputs": [],
      "source": [
        "with open(\"train.txt\", \"w\", encoding=\"utf-8\") as f:\n",
        "    f.write(\"Once upon a time, there was a brave knight.\\n\")\n",
        "    f.write(\"The knight fought dragons and saved the kingdom.\\n\")\n",
        "    f.write(\"Peace returned to the land.\\n\")\n"
      ]
    },
    {
      "cell_type": "code",
      "source": [
        "from transformers import GPT2Tokenizer\n",
        "from torch.utils.data import Dataset\n",
        "\n",
        "tokenizer = GPT2Tokenizer.from_pretrained(\"gpt2\")\n",
        "if tokenizer.pad_token is None:\n",
        "    tokenizer.add_special_tokens({'pad_token': '[PAD]'})\n",
        "\n",
        "with open(\"train.txt\", \"r\", encoding=\"utf-8\") as f:\n",
        "    lines = [line.strip() for line in f if line.strip()]\n",
        "\n",
        "class TextDataset(Dataset):\n",
        "    def __init__(self, texts, tokenizer, block_size=128):\n",
        "        self.examples = [tokenizer(t, truncation=True, max_length=block_size, padding=\"max_length\", return_tensors=\"pt\")[\"input_ids\"].squeeze() for t in texts]\n",
        "    def __len__(self): return len(self.examples)\n",
        "    def __getitem__(self, idx): return self.examples[idx]\n",
        "\n",
        "dataset = TextDataset(lines, tokenizer)\n"
      ],
      "metadata": {
        "id": "85H232XeQ8JZ"
      },
      "execution_count": null,
      "outputs": []
    },
    {
      "cell_type": "code",
      "source": [],
      "metadata": {
        "id": "tPamJSBDZ1e3"
      },
      "execution_count": null,
      "outputs": []
    },
    {
      "cell_type": "code",
      "source": [
        "from transformers import GPT2LMHeadModel\n",
        "\n",
        "model = GPT2LMHeadModel.from_pretrained(\"gpt2\")\n",
        "model.resize_token_embeddings(len(tokenizer))\n",
        "\n",
        "import torch\n",
        "device = \"cuda\" if torch.cuda.is_available() else \"cpu\"\n",
        "model = model.to(device)\n"
      ],
      "metadata": {
        "id": "pw8yC_P-RHWo"
      },
      "execution_count": null,
      "outputs": []
    },
    {
      "cell_type": "code",
      "execution_count": null,
      "metadata": {
        "id": "vd0lX7zLtAiq"
      },
      "outputs": [],
      "source": [
        "from transformers import DataCollatorForLanguageModeling, TrainingArguments, Trainer\n",
        "\n",
        "data_collator = DataCollatorForLanguageModeling(tokenizer=tokenizer, mlm=False)\n",
        "\n",
        "training_args = TrainingArguments(\n",
        "    output_dir=\"./gpt2-finetuned\",\n",
        "    overwrite_output_dir=True,\n",
        "    num_train_epochs=1,\n",
        "    per_device_train_batch_size=2,\n",
        "    save_steps=500,\n",
        "    save_total_limit=2,\n",
        ")\n",
        "\n",
        "import os\n",
        "os.environ[\"WANDB_DISABLED\"] = \"true\"  # disable wandb logging\n",
        "\n",
        "trainer = Trainer(\n",
        "    model=model,\n",
        "    args=training_args,\n",
        "    train_dataset=dataset,\n",
        "    data_collator=data_collator,\n",
        ")\n",
        "\n",
        "trainer.train()\n"
      ]
    },
    {
      "cell_type": "code",
      "source": [
        "model.save_pretrained(\"./gpt2-finetuned\")\n",
        "tokenizer.save_pretrained(\"./gpt2-finetuned\")\n"
      ],
      "metadata": {
        "id": "mOi_HNWFNOFC"
      },
      "execution_count": null,
      "outputs": []
    },
    {
      "cell_type": "code",
      "source": [
        "from transformers import GPT2LMHeadModel, GPT2Tokenizer\n",
        "\n",
        "tokenizer = GPT2Tokenizer.from_pretrained(\"./gpt2-finetuned\")\n",
        "model = GPT2LMHeadModel.from_pretrained(\"./gpt2-finetuned\").to(device)\n",
        "\n",
        "input_ids = tokenizer.encode(\"Once upon a time\", return_tensors=\"pt\").to(device)\n",
        "output = model.generate(input_ids, max_length=50, temperature=0.7, top_p=0.9, do_sample=True)\n",
        "\n",
        "print(tokenizer.decode(output[0], skip_special_tokens=True))\n"
      ],
      "metadata": {
        "id": "-XM0KlT40y_L"
      },
      "execution_count": null,
      "outputs": []
    }
  ],
  "metadata": {
    "colab": {
      "provenance": [],
      "include_colab_link": true
    },
    "kernelspec": {
      "display_name": "Python 3",
      "name": "python3"
    },
    "language_info": {
      "name": "python"
    }
  },
  "nbformat": 4,
  "nbformat_minor": 0
}